{
  "nbformat": 4,
  "nbformat_minor": 0,
  "metadata": {
    "colab": {
      "provenance": []
    },
    "kernelspec": {
      "name": "python3",
      "display_name": "Python 3"
    },
    "language_info": {
      "name": "python"
    }
  },
  "cells": [
    {
      "cell_type": "code",
      "execution_count": 15,
      "metadata": {
        "colab": {
          "base_uri": "https://localhost:8080/"
        },
        "id": "4JCH6BxHJQ-2",
        "outputId": "4b0a8f33-d468-45bb-f506-039a05277bda"
      },
      "outputs": [
        {
          "output_type": "stream",
          "name": "stdout",
          "text": [
            "Mounted at /content/drive\n"
          ]
        },
        {
          "output_type": "stream",
          "name": "stderr",
          "text": [
            "<ipython-input-15-916231a73e6b>:10: DeprecationWarning: Conversion of an array with ndim > 0 to a scalar is deprecated, and will error in future. Ensure you extract a single element from your array before performing this operation. (Deprecated NumPy 1.25.)\n",
            "  X = data['iris_data'].astype(float)  # 문자열로 되어 있을 수 있어서 float으로 바꿈\n"
          ]
        },
        {
          "output_type": "stream",
          "name": "stdout",
          "text": [
            "K 값에 따른 학습 오분류율\n",
            "K =  5 → 오분류율 = 0.0190\n",
            "K = 10 → 오분류율 = 0.0095\n",
            "K = 15 → 오분류율 = 0.0095\n",
            "K = 20 → 오분류율 = 0.0190\n",
            "K = 25 → 오분류율 = 0.0381\n",
            "K = 30 → 오분류율 = 0.0667\n"
          ]
        }
      ],
      "source": [
        "import numpy as np\n",
        "from scipy.io import loadmat\n",
        "from google.colab import drive\n",
        "\n",
        "drive.mount('/content/drive')\n",
        "data = loadmat('/content/drive/MyDrive/iris_shuffled.mat')\n",
        "X = data['iris_data'].astype(float)  # 문자열로 되어 있을 수 있어서 float으로 바꿈\n",
        "y = data['iris_class'].flatten()     # (150, 1) 모양일 수 있어서 1차원으로 펼침\n",
        "\n",
        "# 데이터를 섞어서 70%는 학습용, 30%는 테스트용으로 사용\n",
        "def train_test_split(X, y, test_ratio=0.3):\n",
        "    n_samples = X.shape[0]\n",
        "    indices = np.arange(n_samples)\n",
        "    np.random.seed(42)  # 결과 재현 가능하도록 고정\n",
        "    np.random.shuffle(indices)  # 인덱스를 무작위로 섞음\n",
        "    split = int(n_samples * (1 - test_ratio))  # 학습 데이터 개수\n",
        "    train_idx, test_idx = indices[:split], indices[split:]\n",
        "    return X[train_idx], X[test_idx], y[train_idx], y[test_idx]\n",
        "\n",
        "X_train, X_test, y_train, y_test = train_test_split(X, y)\n",
        "\n",
        "# 두 벡터 간 거리를 계산\n",
        "def euclidean_distance(x1, x2):\n",
        "    return np.sqrt(np.sum((x1 - x2)**2))\n",
        "\n",
        "# x_test 데이터와 학습데이터 간의 거리를 모두 계산한 뒤,\n",
        "# 가까운 K개의 데이터를 고르고, 그 중 가장 많이 등장한 클래스를 예측값으로\n",
        "def knn_predict(X_train, y_train, x_test, k):\n",
        "    distances = [euclidean_distance(x_test, x) for x in X_train]  # 모든 학습 샘플과 거리 계산\n",
        "    k_indices = np.argsort(distances)[:k]  # 가장 가까운 k개 찾기\n",
        "    k_labels = [y_train[i] for i in k_indices]  # 라벨 모으기\n",
        "    values, counts = np.unique(k_labels, return_counts=True)  # 라벨별로 몇 개씩 있는지 세기\n",
        "    return values[np.argmax(counts)]  # 가장 많이 등장한 라벨을 결과로 반환\n",
        "\n",
        "# 학습 데이터에 대해 잘 분류했는지를 계산\n",
        "k_values = [5, 10, 15, 20, 25, 30]\n",
        "results = []\n",
        "\n",
        "for k in k_values:\n",
        "    y_pred = []  # 예측 결과 저장할 리스트\n",
        "    for x in X_train:\n",
        "        pred = knn_predict(X_train, y_train, x, k)  # 학습 데이터로 학습 데이터를 예측\n",
        "        y_pred.append(pred)\n",
        "    y_pred = np.array(y_pred)\n",
        "    error_rate = np.mean(y_pred != y_train)  # 오분류율 = 예측과 정답이 다른 비율\n",
        "    results.append((k, error_rate))  # 결과 저장\n",
        "\n",
        "print(\"K 값에 따른 학습 오분류율\")\n",
        "for k, error in results:\n",
        "    print(f\"K = {k:2} → 오분류율 = {error:.4f}\")"
      ]
    },
    {
      "cell_type": "code",
      "source": [
        "import numpy as np\n",
        "from scipy.io import loadmat\n",
        "from google.colab import drive\n",
        "\n",
        "drive.mount('/content/drive')\n",
        "data = loadmat('/content/drive/MyDrive/iris_shuffled.mat')\n",
        "X = data['iris_data'].astype(float)  # 문자열로 되어 있을 수 있어서 float으로 바꿈\n",
        "y = data['iris_class'].flatten()     # (150, 1) 모양일 수 있어서 1차원으로 펼침\n",
        "\n",
        "# 인덱스를 무작위로 섞은 뒤 앞에서 120개는 학습, 나머지 30개는 테스트로 설정\n",
        "def train_test_split_fixed(X, y, train_size=120):\n",
        "    indices = np.arange(X.shape[0])  # 전체 데이터 인덱스 (0~149)\n",
        "    np.random.seed(42)               # 실험 재현을 위해 seed 고정\n",
        "    np.random.shuffle(indices)       # 인덱스 무작위 섞기\n",
        "\n",
        "    train_idx = indices[:train_size]  # 앞에서 120개는 학습용\n",
        "    test_idx = indices[train_size:]  # 나머지 30개는 테스트용\n",
        "\n",
        "    # 나눈 인덱스를 사용해 실제 데이터를 선택해 반환\n",
        "    return X[train_idx], X[test_idx], y[train_idx], y[test_idx]\n",
        "\n",
        "# 실제 학습/테스트 데이터를 나눔\n",
        "X_train, X_test, y_train, y_test = train_test_split_fixed(X, y)\n",
        "\n",
        "# 두 벡터간의 유클리디안 거리를 계산\n",
        "def euclidean_distance(x1, x2):\n",
        "    return np.sqrt(np.sum((x1 - x2)**2))\n",
        "\n",
        "# x_test: 분류하고 싶은 샘플\n",
        "# X_train, y_train: 학습 데이터\n",
        "# k: 주변 몇 개를 볼지?\n",
        "def knn_predict(X_train, y_train, x_test, k):\n",
        "    # 학습 데이터 각각과의 거리 계산\n",
        "    distances = [euclidean_distance(x_test, x) for x in X_train]\n",
        "\n",
        "    # 거리가 가까운 순으로 정렬한 인덱스 중 앞의 k개를 선택\n",
        "    k_indices = np.argsort(distances)[:k]\n",
        "\n",
        "    # 선택된 k개의 이웃 데이터들의 클래스 라벨 모으기\n",
        "    k_labels = [y_train[i] for i in k_indices]\n",
        "\n",
        "    # 가장 많이 등장한 라벨을 최종 예측값으로 선택\n",
        "    values, counts = np.unique(k_labels, return_counts=True)\n",
        "    return values[np.argmax(counts)]\n",
        "\n",
        "# K값들에 대해 반복하며 결과 비교\n",
        "k_values = [5, 10, 15, 20, 25, 30]\n",
        "results = []\n",
        "\n",
        "# 각각의 K에 대해 오분류율을 계산해 저장\n",
        "for k in k_values:\n",
        "    # 학습 데이터에 대해 자기 자신을 예측\n",
        "    y_train_pred = [knn_predict(X_train, y_train, x, k) for x in X_train]\n",
        "    train_error = np.mean(y_train_pred != y_train)  # 정답과 비교해서 틀린 비율\n",
        "\n",
        "    # 테스트 데이터에 대해 예측\n",
        "    y_test_pred = [knn_predict(X_train, y_train, x, k) for x in X_test]\n",
        "    test_error = np.mean(y_test_pred != y_test)  # 테스트 오분류율\n",
        "\n",
        "    # K값과 오분류율을 튜플로 저장\n",
        "    results.append((k, train_error, test_error))\n",
        "\n",
        "print(\"K 값에 따른 오분류율 (학습 / 테스트)\")\n",
        "print(\" K | 학습 오분류율 | 테스트 오분류율\")\n",
        "print(\"---|---------------|----------------\")\n",
        "for k, e_train, e_test in results:\n",
        "    print(f\"{k:2d} |     {e_train:.4f}    |      {e_test:.4f}\")"
      ],
      "metadata": {
        "colab": {
          "base_uri": "https://localhost:8080/"
        },
        "id": "7IWFYaOz5Obl",
        "outputId": "39cf8a33-7fa1-41fd-adfb-9de1fcf442e1"
      },
      "execution_count": 16,
      "outputs": [
        {
          "output_type": "stream",
          "name": "stdout",
          "text": [
            "Drive already mounted at /content/drive; to attempt to forcibly remount, call drive.mount(\"/content/drive\", force_remount=True).\n"
          ]
        },
        {
          "output_type": "stream",
          "name": "stderr",
          "text": [
            "<ipython-input-16-97703de5f747>:7: DeprecationWarning: Conversion of an array with ndim > 0 to a scalar is deprecated, and will error in future. Ensure you extract a single element from your array before performing this operation. (Deprecated NumPy 1.25.)\n",
            "  X = data['iris_data'].astype(float)  # 문자열로 되어 있을 수 있어서 float으로 바꿈\n"
          ]
        },
        {
          "output_type": "stream",
          "name": "stdout",
          "text": [
            "K 값에 따른 오분류율 (학습 / 테스트)\n",
            " K | 학습 오분류율 | 테스트 오분류율\n",
            "---|---------------|----------------\n",
            " 5 |     0.0167    |      0.0667\n",
            "10 |     0.0083    |      0.0667\n",
            "15 |     0.0083    |      0.0667\n",
            "20 |     0.0167    |      0.0667\n",
            "25 |     0.0250    |      0.0667\n",
            "30 |     0.0417    |      0.0667\n"
          ]
        }
      ]
    }
  ]
}