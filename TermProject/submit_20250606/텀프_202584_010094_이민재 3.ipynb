{
  "nbformat": 4,
  "nbformat_minor": 0,
  "metadata": {
    "colab": {
      "provenance": []
    },
    "kernelspec": {
      "name": "python3",
      "display_name": "Python 3"
    },
    "language_info": {
      "name": "python"
    }
  },
  "cells": [
    {
      "cell_type": "code",
      "source": [
        "import os\n",
        "import shutil\n",
        "\n",
        "\n",
        "# 폴더정리\n",
        "if not os.path.exists('./data/cifar-10-batches-py'):\n",
        "    os.mkdir('./data/cifar-10-batches-py')\n",
        "\n",
        "    for file in os.listdir('./data'):\n",
        "        path = os.path.join('./data', file)\n",
        "        if os.path.isfile(path):\n",
        "            shutil.move(path, './data/cifar-10-batches-py')\n",
        "\n",
        "print(\"✅ 정리 완료\")"
      ],
      "metadata": {
        "colab": {
          "base_uri": "https://localhost:8080/"
        },
        "id": "Kl1-bcYnVBg-",
        "outputId": "276d8496-d037-45c5-94bf-e49d5b67761d"
      },
      "execution_count": 12,
      "outputs": [
        {
          "output_type": "stream",
          "name": "stdout",
          "text": [
            "✅ 정리 완료\n"
          ]
        }
      ]
    },
    {
      "cell_type": "code",
      "source": [
        "# torch & torchvision\n",
        "import torch\n",
        "import torch.nn as nn\n",
        "import torch.optim as optim\n",
        "import torchvision\n",
        "import torchvision.transforms as transforms\n",
        "\n",
        "# 데이터 전처리 설정\n",
        "# 이미지를 텐서로 바꾸고, 정규화해서 값 범위를 맞춰주는 작업\n",
        "transform = transforms.Compose([\n",
        "    transforms.ToTensor(),\n",
        "    transforms.Normalize((0.5, 0.5, 0.5), (0.5, 0.5, 0.5))\n",
        "])\n",
        "\n",
        "# 학습 데이터셋 불러오기\n",
        "trainset = torchvision.datasets.CIFAR10(root='./data', train=True, download=False, transform=transform)\n",
        "trainloader = torch.utils.data.DataLoader(trainset, batch_size=32, shuffle=True)\n",
        "\n",
        "# 테스트 데이터셋도 같은 방식으로 불러옴\n",
        "testset = torchvision.datasets.CIFAR10(root='./data', train=False, download=False, transform=transform)\n",
        "testloader = torch.utils.data.DataLoader(testset, batch_size=32, shuffle=False)\n",
        "\n",
        "# 클래스 이름 (정답 라벨에 해당하는 것들)\n",
        "classes = ['plane', 'car', 'bird', 'cat', 'deer',\n",
        "           'dog', 'frog', 'horse', 'ship', 'truck']"
      ],
      "metadata": {
        "id": "Pt_TK_OJWcgD"
      },
      "execution_count": 13,
      "outputs": []
    },
    {
      "cell_type": "code",
      "source": [
        "# CNN(합성곱 신경망)을 처음 만들어봤는데, 너무 복잡하게 하지 않고 심플하게 구성함\n",
        "# conv → relu → pooling → conv → relu → pooling → fc 세 개 이런 순서로 구성했음\n",
        "\n",
        "class SimpleCNN(nn.Module):\n",
        "    def __init__(self):\n",
        "        super(SimpleCNN, self).__init__()\n",
        "        self.conv1 = nn.Conv2d(3, 6, 5)      # RGB 3채널 → 6채널\n",
        "        self.pool = nn.MaxPool2d(2, 2)       # 2x2 max pooling\n",
        "        self.conv2 = nn.Conv2d(6, 16, 5)     # 6채널 → 16채널\n",
        "\n",
        "        self.fc1 = nn.Linear(16 * 5 * 5, 120)  # 평탄화 후 완전연결층\n",
        "        self.fc2 = nn.Linear(120, 84)\n",
        "        self.fc3 = nn.Linear(84, 10)          # 최종 클래스 개수 10개\n",
        "\n",
        "    def forward(self, x):\n",
        "        x = self.pool(torch.relu(self.conv1(x)))  # conv1 → relu → pool\n",
        "        x = self.pool(torch.relu(self.conv2(x)))  # conv2 → relu → pool\n",
        "        x = x.view(-1, 16 * 5 * 5)                # flatten\n",
        "        x = torch.relu(self.fc1(x))              # fc1 → relu\n",
        "        x = torch.relu(self.fc2(x))              # fc2 → relu\n",
        "        x = self.fc3(x)                          # fc3 (softmax 없음 → loss에서 처리)\n",
        "        return x\n",
        "\n",
        "net = SimpleCNN()"
      ],
      "metadata": {
        "id": "EHWaW-2KWjzm"
      },
      "execution_count": 14,
      "outputs": []
    },
    {
      "cell_type": "code",
      "source": [
        "# CrossEntropyLoss를 사용함 (내부적으로 softmax 포함됨)\n",
        "criterion = nn.CrossEntropyLoss()\n",
        "\n",
        "# optimizer는 Adam을 사용\n",
        "optimizer = optim.Adam(net.parameters(), lr=0.001)\n",
        "\n",
        "# GPU가 가능하면 쓰고, 안 되면 CPU라도 사용\n",
        "device = torch.device(\"cuda\" if torch.cuda.is_available() else \"cpu\")\n",
        "net.to(device)"
      ],
      "metadata": {
        "colab": {
          "base_uri": "https://localhost:8080/"
        },
        "id": "SMWIheduWnoI",
        "outputId": "30e2f8a5-2351-40b4-ef40-5d5544f7fb23"
      },
      "execution_count": 16,
      "outputs": [
        {
          "output_type": "execute_result",
          "data": {
            "text/plain": [
              "SimpleCNN(\n",
              "  (conv1): Conv2d(3, 6, kernel_size=(5, 5), stride=(1, 1))\n",
              "  (pool): MaxPool2d(kernel_size=2, stride=2, padding=0, dilation=1, ceil_mode=False)\n",
              "  (conv2): Conv2d(6, 16, kernel_size=(5, 5), stride=(1, 1))\n",
              "  (fc1): Linear(in_features=400, out_features=120, bias=True)\n",
              "  (fc2): Linear(in_features=120, out_features=84, bias=True)\n",
              "  (fc3): Linear(in_features=84, out_features=10, bias=True)\n",
              ")"
            ]
          },
          "metadata": {},
          "execution_count": 16
        }
      ]
    },
    {
      "cell_type": "code",
      "source": [
        "num_epochs = 5  # 너무 오래 걸리지 않게 5번만 돌림\n",
        "\n",
        "for epoch in range(num_epochs):\n",
        "    running_loss = 0.0\n",
        "\n",
        "    for i, data in enumerate(trainloader, 0):\n",
        "        inputs, labels = data\n",
        "        inputs, labels = inputs.to(device), labels.to(device)\n",
        "\n",
        "        optimizer.zero_grad()       # gradient 초기화\n",
        "        outputs = net(inputs)       # forward pass\n",
        "        loss = criterion(outputs, labels)  # 손실 계산\n",
        "        loss.backward()             # backward pass\n",
        "        optimizer.step()            # weight 업데이트\n",
        "\n",
        "        running_loss += loss.item()\n",
        "\n",
        "        # 100번마다 평균 손실 출력 (손실값이 줄어드는지 확인용)\n",
        "        if i % 100 == 99:\n",
        "            print(f'[Epoch {epoch+1}, Step {i+1}] loss: {running_loss / 100:.3f}')\n",
        "            running_loss = 0.0\n",
        "\n",
        "print('✅ 학습 완료!')"
      ],
      "metadata": {
        "colab": {
          "base_uri": "https://localhost:8080/"
        },
        "id": "4_5l2AseWwZG",
        "outputId": "60e87a0f-6b51-456d-c8a5-b2738d16742c"
      },
      "execution_count": 17,
      "outputs": [
        {
          "output_type": "stream",
          "name": "stdout",
          "text": [
            "[Epoch 1, Step 100] loss: 2.126\n",
            "[Epoch 1, Step 200] loss: 1.881\n",
            "[Epoch 1, Step 300] loss: 1.752\n",
            "[Epoch 1, Step 400] loss: 1.673\n",
            "[Epoch 1, Step 500] loss: 1.623\n",
            "[Epoch 1, Step 600] loss: 1.618\n",
            "[Epoch 1, Step 700] loss: 1.535\n",
            "[Epoch 1, Step 800] loss: 1.561\n",
            "[Epoch 1, Step 900] loss: 1.531\n",
            "[Epoch 1, Step 1000] loss: 1.512\n",
            "[Epoch 1, Step 1100] loss: 1.460\n",
            "[Epoch 1, Step 1200] loss: 1.455\n",
            "[Epoch 1, Step 1300] loss: 1.433\n",
            "[Epoch 1, Step 1400] loss: 1.414\n",
            "[Epoch 1, Step 1500] loss: 1.391\n",
            "[Epoch 2, Step 100] loss: 1.392\n",
            "[Epoch 2, Step 200] loss: 1.346\n",
            "[Epoch 2, Step 300] loss: 1.327\n",
            "[Epoch 2, Step 400] loss: 1.312\n",
            "[Epoch 2, Step 500] loss: 1.321\n",
            "[Epoch 2, Step 600] loss: 1.282\n",
            "[Epoch 2, Step 700] loss: 1.281\n",
            "[Epoch 2, Step 800] loss: 1.284\n",
            "[Epoch 2, Step 900] loss: 1.300\n",
            "[Epoch 2, Step 1000] loss: 1.270\n",
            "[Epoch 2, Step 1100] loss: 1.287\n",
            "[Epoch 2, Step 1200] loss: 1.240\n",
            "[Epoch 2, Step 1300] loss: 1.266\n",
            "[Epoch 2, Step 1400] loss: 1.264\n",
            "[Epoch 2, Step 1500] loss: 1.219\n",
            "[Epoch 3, Step 100] loss: 1.173\n",
            "[Epoch 3, Step 200] loss: 1.223\n",
            "[Epoch 3, Step 300] loss: 1.201\n",
            "[Epoch 3, Step 400] loss: 1.189\n",
            "[Epoch 3, Step 500] loss: 1.187\n",
            "[Epoch 3, Step 600] loss: 1.212\n",
            "[Epoch 3, Step 700] loss: 1.160\n",
            "[Epoch 3, Step 800] loss: 1.208\n",
            "[Epoch 3, Step 900] loss: 1.188\n",
            "[Epoch 3, Step 1000] loss: 1.188\n",
            "[Epoch 3, Step 1100] loss: 1.188\n",
            "[Epoch 3, Step 1200] loss: 1.157\n",
            "[Epoch 3, Step 1300] loss: 1.126\n",
            "[Epoch 3, Step 1400] loss: 1.128\n",
            "[Epoch 3, Step 1500] loss: 1.152\n",
            "[Epoch 4, Step 100] loss: 1.090\n",
            "[Epoch 4, Step 200] loss: 1.089\n",
            "[Epoch 4, Step 300] loss: 1.098\n",
            "[Epoch 4, Step 400] loss: 1.104\n",
            "[Epoch 4, Step 500] loss: 1.076\n",
            "[Epoch 4, Step 600] loss: 1.123\n",
            "[Epoch 4, Step 700] loss: 1.086\n",
            "[Epoch 4, Step 800] loss: 1.094\n",
            "[Epoch 4, Step 900] loss: 1.098\n",
            "[Epoch 4, Step 1000] loss: 1.063\n",
            "[Epoch 4, Step 1100] loss: 1.076\n",
            "[Epoch 4, Step 1200] loss: 1.111\n",
            "[Epoch 4, Step 1300] loss: 1.120\n",
            "[Epoch 4, Step 1400] loss: 1.089\n",
            "[Epoch 4, Step 1500] loss: 1.039\n",
            "[Epoch 5, Step 100] loss: 1.000\n",
            "[Epoch 5, Step 200] loss: 1.005\n",
            "[Epoch 5, Step 300] loss: 1.039\n",
            "[Epoch 5, Step 400] loss: 1.058\n",
            "[Epoch 5, Step 500] loss: 1.038\n",
            "[Epoch 5, Step 600] loss: 1.029\n",
            "[Epoch 5, Step 700] loss: 1.034\n",
            "[Epoch 5, Step 800] loss: 1.034\n",
            "[Epoch 5, Step 900] loss: 1.034\n",
            "[Epoch 5, Step 1000] loss: 1.034\n",
            "[Epoch 5, Step 1100] loss: 1.059\n",
            "[Epoch 5, Step 1200] loss: 1.027\n",
            "[Epoch 5, Step 1300] loss: 1.046\n",
            "[Epoch 5, Step 1400] loss: 1.029\n",
            "[Epoch 5, Step 1500] loss: 1.034\n",
            "✅ 학습 완료!\n"
          ]
        }
      ]
    },
    {
      "cell_type": "code",
      "source": [
        "correct = 0\n",
        "total = 0\n",
        "net.eval()  # 평가 모드로 전환\n",
        "\n",
        "# 예측만 할 거니까 gradient 계산은 안 해도 됨\n",
        "with torch.no_grad():\n",
        "    for data in testloader:\n",
        "        images, labels = data\n",
        "        images, labels = images.to(device), labels.to(device)\n",
        "\n",
        "        outputs = net(images)\n",
        "        _, predicted = torch.max(outputs.data, 1)  # 가장 확률 높은 클래스 뽑음\n",
        "        total += labels.size(0)\n",
        "        correct += (predicted == labels).sum().item()\n",
        "\n",
        "print(f'🧪 테스트 데이터 정확도: {100 * correct / total:.2f}%')"
      ],
      "metadata": {
        "colab": {
          "base_uri": "https://localhost:8080/"
        },
        "id": "sR9Cm9odXaDs",
        "outputId": "f1493f1e-5dc0-4c22-b9c3-103fa8a542ae"
      },
      "execution_count": 18,
      "outputs": [
        {
          "output_type": "stream",
          "name": "stdout",
          "text": [
            "🧪 테스트 데이터 정확도: 61.14%\n"
          ]
        }
      ]
    }
  ]
}